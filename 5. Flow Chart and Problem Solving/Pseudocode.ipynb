{
 "cells": [
  {
   "cell_type": "markdown",
   "metadata": {},
   "source": [
    "## What is PseudoCode?"
   ]
  },
  {
   "cell_type": "markdown",
   "metadata": {},
   "source": [
    "<ul>\n",
    "<li> A Pseudocide is a simple way of describing an algorithm in plain language or a mix of code like and natural language instruction</li>\n",
    "<li>It doesn't follow any specific programming language syntax, making ut easier to understand, even for those without programming knowledge</li>\n",
    "<li>Pseudo Code is often used as a step before writing actual code</li>\n",
    "</ul>"
   ]
  },
  {
   "cell_type": "markdown",
   "metadata": {},
   "source": [
    "### Write a Pseudo code to find sum of 2 numbers"
   ]
  },
  {
   "cell_type": "code",
   "execution_count": null,
   "metadata": {},
   "outputs": [],
   "source": [
    "\"\"\"\n",
    "Begin\n",
    "  Input FirstNumber\n",
    "  Input SecondNumber\n",
    "\n",
    "  SUM = FirstNumber + SecondNumber\n",
    "\n",
    "  print SUM\n",
    "\n",
    "End\n",
    "\n",
    "\"\"\""
   ]
  },
  {
   "cell_type": "markdown",
   "metadata": {},
   "source": [
    "### Find the Largest Number in an Array"
   ]
  },
  {
   "cell_type": "code",
   "execution_count": null,
   "metadata": {},
   "outputs": [],
   "source": [
    "## This Pseudo Code works if we assume that programming language supports MAX function\n",
    "\"\"\"\n",
    "Begin\n",
    "\n",
    "  Define an Array with numbers\n",
    "  HightestNumber = MAX(Array)\n",
    "\n",
    "  print HighestNumber\n",
    "\n",
    "End\n",
    "\n",
    "\"\"\""
   ]
  },
  {
   "cell_type": "code",
   "execution_count": null,
   "metadata": {},
   "outputs": [],
   "source": [
    "\"\"\"\n",
    "Begin\n",
    "\n",
    "  Define Array with number\n",
    "  HighestNumber = 0 // Initially assuming 0 as the highest number\n",
    "\n",
    "  for each number in Array\n",
    "    if number > HighestNumber:\n",
    "      HighestNumber = number\n",
    "    end if\n",
    "  end for\n",
    "\n",
    "  print HighestNumber\n",
    "\n",
    "  End\n",
    "\n",
    "\"\"\""
   ]
  }
 ],
 "metadata": {
  "kernelspec": {
   "display_name": "base",
   "language": "python",
   "name": "python3"
  },
  "language_info": {
   "name": "python",
   "version": "3.12.4"
  }
 },
 "nbformat": 4,
 "nbformat_minor": 2
}
