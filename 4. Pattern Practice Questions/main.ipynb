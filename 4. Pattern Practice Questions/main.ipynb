{
 "cells": [
  {
   "cell_type": "markdown",
   "metadata": {},
   "source": [
    "# This comprises of Questions Related to Patterns"
   ]
  },
  {
   "cell_type": "markdown",
   "metadata": {},
   "source": [
    "### Coding Exercise 1: Square of side 'N'"
   ]
  },
  {
   "cell_type": "code",
   "execution_count": 7,
   "metadata": {},
   "outputs": [
    {
     "name": "stdout",
     "output_type": "stream",
     "text": [
      "['***', '***', '***']\n"
     ]
    }
   ],
   "source": [
    "# Square of side 'N'\n",
    "# Problem Description: You are given an integer n. Your task is to return a square pattern of size n x n made up of the character '*', represented as a list of strings.\n",
    "\n",
    "# Input Parameters:\n",
    "# n (int): The size of the square (number of rows and columns).\n",
    "\n",
    "# Output:\n",
    "# A list of strings where each string is a row of n characters.\n",
    "\n",
    "# Example:\n",
    "# Input: 3\n",
    "# Output: [***, ***, ***]\n",
    " \n",
    "# Input: 5\n",
    "# Output: [*****, *****, *****, *****, *****] </p>\n",
    "\n",
    "def generate_square(n):\n",
    "  pattern_list = []\n",
    "  for i in range(n):\n",
    "    pattern_list.append(\"*\" * n)\n",
    "  return pattern_list\n",
    "\n",
    "print(generate_square(3))"
   ]
  },
  {
   "cell_type": "markdown",
   "metadata": {},
   "source": [
    "### Coding Exercise 3: Rectangle Pattern"
   ]
  },
  {
   "cell_type": "code",
   "execution_count": 9,
   "metadata": {},
   "outputs": [
    {
     "name": "stdout",
     "output_type": "stream",
     "text": [
      "['**', '**', '**']\n"
     ]
    }
   ],
   "source": [
    "# Rectangle Pattern\n",
    "# Problem Description:\n",
    "# You are given two integers, n and m. Your task is to return a rectangle pattern of '*', where n represents the number of rows (length) and m represents the number of columns (breadth).\n",
    "\n",
    "# Input:\n",
    "# Two integers n and m, where 1 <= n, m <= 100.\n",
    "\n",
    "# Output:\n",
    "# A list of strings where each string represents a row of the rectangle pattern.\n",
    "\n",
    "# Example:\n",
    "# Input: n = 4, m = 5\n",
    "# Output: ['*****', '*****', '*****', '*****']\n",
    " \n",
    "# Input: n = 3, m = 2\n",
    "# Output: ['**', '**', '**']\n",
    "\n",
    "def generate_rectangle(m,n):\n",
    "  pattern_list = []\n",
    "  for i in range(n):\n",
    "    pattern_list.append(\"*\" * m)\n",
    "  print(pattern_list)\n",
    "\n",
    "generate_rectangle(2,3)"
   ]
  },
  {
   "cell_type": "markdown",
   "metadata": {},
   "source": [
    "### Coding Exercise 4: Rectangle Angled Triangle"
   ]
  },
  {
   "cell_type": "code",
   "execution_count": 15,
   "metadata": {},
   "outputs": [
    {
     "name": "stdout",
     "output_type": "stream",
     "text": [
      "['*', '**', '***', '****']\n"
     ]
    }
   ],
   "source": [
    "def generate_right_angle_triangle(n):\n",
    "  pattern_list = []\n",
    "  for i in range(1,n+1):\n",
    "    pattern_list.append(\"*\" * i)\n",
    "  return pattern_list\n",
    "\n",
    "print(generate_right_angle_triangle(4))"
   ]
  },
  {
   "cell_type": "code",
   "execution_count": null,
   "metadata": {},
   "outputs": [],
   "source": []
  }
 ],
 "metadata": {
  "kernelspec": {
   "display_name": "base",
   "language": "python",
   "name": "python3"
  },
  "language_info": {
   "codemirror_mode": {
    "name": "ipython",
    "version": 3
   },
   "file_extension": ".py",
   "mimetype": "text/x-python",
   "name": "python",
   "nbconvert_exporter": "python",
   "pygments_lexer": "ipython3",
   "version": "3.12.4"
  }
 },
 "nbformat": 4,
 "nbformat_minor": 2
}
