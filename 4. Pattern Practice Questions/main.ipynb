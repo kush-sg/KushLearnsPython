{
 "cells": [
  {
   "cell_type": "markdown",
   "metadata": {},
   "source": [
    "# This comprises of Questions Related to Patterns"
   ]
  },
  {
   "cell_type": "markdown",
   "metadata": {},
   "source": [
    "### Coding Exercise 1: Square of side 'N'"
   ]
  },
  {
   "cell_type": "code",
   "execution_count": 7,
   "metadata": {},
   "outputs": [
    {
     "name": "stdout",
     "output_type": "stream",
     "text": [
      "['***', '***', '***']\n"
     ]
    }
   ],
   "source": [
    "# Square of side 'N'\n",
    "# Problem Description: You are given an integer n. Your task is to return a square pattern of size n x n made up of the character '*', represented as a list of strings.\n",
    "\n",
    "# Input Parameters:\n",
    "# n (int): The size of the square (number of rows and columns).\n",
    "\n",
    "# Output:\n",
    "# A list of strings where each string is a row of n characters.\n",
    "\n",
    "# Example:\n",
    "# Input: 3\n",
    "# Output: [***, ***, ***]\n",
    " \n",
    "# Input: 5\n",
    "# Output: [*****, *****, *****, *****, *****] </p>\n",
    "\n",
    "def generate_square(n):\n",
    "  pattern_list = []\n",
    "  for i in range(n):\n",
    "    pattern_list.append(\"*\" * n)\n",
    "  return pattern_list\n",
    "\n",
    "print(generate_square(3))"
   ]
  },
  {
   "cell_type": "markdown",
   "metadata": {},
   "source": [
    "### Coding Exercise 3: Rectangle Pattern"
   ]
  },
  {
   "cell_type": "code",
   "execution_count": 9,
   "metadata": {},
   "outputs": [
    {
     "name": "stdout",
     "output_type": "stream",
     "text": [
      "['**', '**', '**']\n"
     ]
    }
   ],
   "source": [
    "# Rectangle Pattern\n",
    "# Problem Description:\n",
    "# You are given two integers, n and m. Your task is to return a rectangle pattern of '*', where n represents the number of rows (length) and m represents the number of columns (breadth).\n",
    "\n",
    "# Input:\n",
    "# Two integers n and m, where 1 <= n, m <= 100.\n",
    "\n",
    "# Output:\n",
    "# A list of strings where each string represents a row of the rectangle pattern.\n",
    "\n",
    "# Example:\n",
    "# Input: n = 4, m = 5\n",
    "# Output: ['*****', '*****', '*****', '*****']\n",
    " \n",
    "# Input: n = 3, m = 2\n",
    "# Output: ['**', '**', '**']\n",
    "\n",
    "def generate_rectangle(m,n):\n",
    "  pattern_list = []\n",
    "  for i in range(n):\n",
    "    pattern_list.append(\"*\" * m)\n",
    "  print(pattern_list)\n",
    "\n",
    "generate_rectangle(2,3)"
   ]
  },
  {
   "cell_type": "markdown",
   "metadata": {},
   "source": [
    "### Coding Exercise 4: Right Angled Triangle"
   ]
  },
  {
   "cell_type": "code",
   "execution_count": 18,
   "metadata": {},
   "outputs": [
    {
     "name": "stdout",
     "output_type": "stream",
     "text": [
      "['*', '**', '***', '****']\n"
     ]
    }
   ],
   "source": [
    "# Right Angled Triangle\n",
    "# Problem Description:\n",
    "\n",
    "# You are given an integer n. Your task is to return a right-angled triangle pattern of '*' where each side has n characters, represented as a list of strings. The triangle has '*' characters, starting with 1 star in the first row, 2 stars in the second row, and so on until the last row has n stars.\n",
    "\n",
    "# Input Parameters:\n",
    "# n (int): The height and base of the right-angled triangle.\n",
    "\n",
    "# Output:\n",
    "# A list of strings where each string is a row of '*' characters that increases in length from 1 to n.\n",
    "\n",
    "# Example:\n",
    "# Input: 3\n",
    "# Output: ['*', '**', '***']\n",
    " \n",
    "# Input: 5\n",
    "# Output: ['*', '**', '***', '****', '*****']\n",
    "\n",
    "def generate_triangle(n):\n",
    "  pattern_list = []\n",
    "  for i in range(1,n+1):\n",
    "    pattern_list.append(\"*\" * i)\n",
    "  return pattern_list\n",
    "\n",
    "print(generate_triangle(4))"
   ]
  },
  {
   "cell_type": "markdown",
   "metadata": {},
   "source": [
    "### Coding Exercise 5: Inverted Right Angled Triangle"
   ]
  },
  {
   "cell_type": "code",
   "execution_count": 14,
   "metadata": {},
   "outputs": [
    {
     "name": "stdout",
     "output_type": "stream",
     "text": [
      "['*****', '****', '***', '**', '*']\n"
     ]
    }
   ],
   "source": [
    "# You are given an integer n. Your task is to return an inverted right-angled triangle pattern of '*' where each side has n characters, represented as a list of strings. The first row should have n stars, the second row n-1 stars, and so on, until the last row has 1 star.\n",
    "\n",
    "# Input Parameters:\n",
    "# n (int): The height and base of the inverted right-angled triangle.\n",
    "# Output:\n",
    "# A list of strings where each string is a row of '*' characters that decreases in length from n to 1.\n",
    "\n",
    "# Example:\n",
    "# Input: 3\n",
    "# Output: ['***', '**', '*']\n",
    " \n",
    "# Input: 5\n",
    "# Output: ['*****', '****', '***', '**', '*']\n",
    "\n",
    "def inverted_triangle(n):\n",
    "  pattern_list = []\n",
    "  for i in reversed(range(1,n+1)):\n",
    "    pattern_list.append(\"*\" * i)\n",
    "  print(pattern_list)\n",
    "\n",
    "inverted_triangle(5)\n"
   ]
  }
 ],
 "metadata": {
  "kernelspec": {
   "display_name": "base",
   "language": "python",
   "name": "python3"
  },
  "language_info": {
   "codemirror_mode": {
    "name": "ipython",
    "version": 3
   },
   "file_extension": ".py",
   "mimetype": "text/x-python",
   "name": "python",
   "nbconvert_exporter": "python",
   "pygments_lexer": "ipython3",
   "version": "3.12.4"
  }
 },
 "nbformat": 4,
 "nbformat_minor": 2
}
