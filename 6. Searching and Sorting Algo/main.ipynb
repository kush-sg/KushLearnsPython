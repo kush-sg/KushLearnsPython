{
 "cells": [
  {
   "cell_type": "markdown",
   "metadata": {},
   "source": [
    "## Introduction to Arrays in Python"
   ]
  },
  {
   "cell_type": "markdown",
   "metadata": {},
   "source": [
    "<ul>\n",
    "  <li>An array is a collection of elements stored in contigous (Continous) memory location</li>\n",
    "  <li>All elements of array are of same datatype (int, float, etc)</li>\n",
    "  <li>Array allow for efficient access and manipulation of data</li>\n",
    "</ul>\n",
    "\n",
    "<h5>Properties of Array</h5>\n",
    "  <ul>\n",
    "    <li>Fixed size [5]</li>\n",
    "    <li>Homogenous (int)</li>\n",
    "  </ul>"
   ]
  },
  {
   "cell_type": "markdown",
   "metadata": {},
   "source": [
    "<p>In python we use List instead of Array as they provide more flexibility.\n",
    "However, python provide ability to use array via libraries such as numpy and array</p>"
   ]
  },
  {
   "cell_type": "markdown",
   "metadata": {},
   "source": [
    "## Array vs List\n",
    "\n",
    "| **Array** | **List** |\n",
    "|-----------|----------|\n",
    "| Homogeneous (Same Type) | Heterogeneous (Different Datatype) |\n",
    "| Fixed Size | Dynamic (can grow and shrink) |\n",
    "| Better performance for large datasets due to optimization | Slower compared to arrays for large datasets |\n",
    "| Use array or numpy | Built in |\n"
   ]
  },
  {
   "cell_type": "markdown",
   "metadata": {},
   "source": []
  }
 ],
 "metadata": {
  "kernelspec": {
   "display_name": "base",
   "language": "python",
   "name": "python3"
  },
  "language_info": {
   "codemirror_mode": {
    "name": "ipython",
    "version": 3
   },
   "file_extension": ".py",
   "mimetype": "text/x-python",
   "name": "python",
   "nbconvert_exporter": "python",
   "pygments_lexer": "ipython3",
   "version": "3.12.4"
  }
 },
 "nbformat": 4,
 "nbformat_minor": 2
}
