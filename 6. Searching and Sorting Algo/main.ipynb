{
 "cells": [
  {
   "cell_type": "markdown",
   "metadata": {},
   "source": [
    "## Introduction to Arrays in Python"
   ]
  },
  {
   "cell_type": "markdown",
   "metadata": {},
   "source": [
    "<ul>\n",
    "  <li>An array is a collection of elements stored in contigous (Continous) memory location</li>\n",
    "  <li>All elements of array are of same datatype (int, float, etc)</li>\n",
    "  <li>Array allow for efficient access and manipulation of data</li>\n",
    "</ul>\n",
    "\n",
    "<h5>Properties of Array</h5>\n",
    "  <ul>\n",
    "    <li>Fixed size [5]</li>\n",
    "    <li>Homogenous (int)</li>\n",
    "  </ul>"
   ]
  },
  {
   "cell_type": "markdown",
   "metadata": {},
   "source": [
    "<p>In python we use List instead of Array as they provide more flexibility.\n",
    "However, python provide ability to use array via libraries such as numpy and array</p>"
   ]
  },
  {
   "cell_type": "markdown",
   "metadata": {},
   "source": [
    "## Array vs List\n",
    "\n",
    "| **Array** | **List** |\n",
    "|-----------|----------|\n",
    "| Homogeneous (Same Type) | Heterogeneous (Different Datatype) |\n",
    "| Fixed Size | Dynamic (can grow and shrink) |\n",
    "| Better performance for large datasets due to optimization | Slower compared to arrays for large datasets |\n",
    "| Use array or numpy | Built in |\n"
   ]
  },
  {
   "cell_type": "markdown",
   "metadata": {},
   "source": [
    "## Searching and Sorting"
   ]
  },
  {
   "cell_type": "markdown",
   "metadata": {},
   "source": [
    "### Linear Search\n",
    "\n",
    "<p></p>"
   ]
  },
  {
   "cell_type": "code",
   "execution_count": 7,
   "metadata": {},
   "outputs": [
    {
     "name": "stdout",
     "output_type": "stream",
     "text": [
      "3\n"
     ]
    }
   ],
   "source": [
    "number_list = [10,20,30,40,50,60,70,80,90]\n",
    "target_value = 40\n",
    "\n",
    "def linear_search(arry, target):\n",
    "  size = len(number_list)\n",
    "  for i in range(0,size):\n",
    "    if arry[i] == target:\n",
    "      return(i)\n",
    "  return(-1)\n",
    "\n",
    "print(linear_search(number_list, target_value))"
   ]
  },
  {
   "cell_type": "code",
   "execution_count": 8,
   "metadata": {},
   "outputs": [
    {
     "name": "stdout",
     "output_type": "stream",
     "text": [
      "-1\n"
     ]
    }
   ],
   "source": [
    "target_value = 100\n",
    "print(linear_search(number_list, target_value))"
   ]
  },
  {
   "cell_type": "markdown",
   "metadata": {},
   "source": [
    "### Binary Search\n",
    "\n",
    "<p></p>"
   ]
  },
  {
   "cell_type": "code",
   "execution_count": 8,
   "metadata": {},
   "outputs": [
    {
     "name": "stdout",
     "output_type": "stream",
     "text": [
      "1\n"
     ]
    }
   ],
   "source": [
    "number_list = [10,20,30,40,50,60,70,80,90]\n",
    "target_number = 20\n",
    "## List should be sorted in ascending order\n",
    "\n",
    "def binary_search(arry, target):\n",
    "  start = 0\n",
    "  end = len(arry)-1\n",
    "\n",
    "  while(start <= end):\n",
    "    mid = (start+end)//2\n",
    "    if arry[mid] == target:\n",
    "      return mid\n",
    "    elif arry[mid] > target:\n",
    "      end = mid-1\n",
    "    elif arry[mid] < target:\n",
    "      start = mid+1\n",
    "    else:\n",
    "      return -1\n",
    "\n",
    "\n",
    "result = binary_search(number_list, target_number)\n",
    "print(result)"
   ]
  },
  {
   "cell_type": "code",
   "execution_count": null,
   "metadata": {},
   "outputs": [],
   "source": []
  }
 ],
 "metadata": {
  "kernelspec": {
   "display_name": "base",
   "language": "python",
   "name": "python3"
  },
  "language_info": {
   "codemirror_mode": {
    "name": "ipython",
    "version": 3
   },
   "file_extension": ".py",
   "mimetype": "text/x-python",
   "name": "python",
   "nbconvert_exporter": "python",
   "pygments_lexer": "ipython3",
   "version": "3.12.4"
  }
 },
 "nbformat": 4,
 "nbformat_minor": 2
}
