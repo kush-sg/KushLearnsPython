{
 "cells": [
  {
   "cell_type": "markdown",
   "metadata": {},
   "source": [
    "## LEET CODE Problem Solving"
   ]
  },
  {
   "cell_type": "markdown",
   "metadata": {},
   "source": [
    "### Q1 - https://leetcode.com/problems/two-sum/"
   ]
  },
  {
   "cell_type": "code",
   "execution_count": 1,
   "metadata": {},
   "outputs": [
    {
     "name": "stdout",
     "output_type": "stream",
     "text": [
      "(1, 2)\n"
     ]
    }
   ],
   "source": [
    "# Input: nums = [2,7,11,15], target = 9\n",
    "# Output: [0,1]\n",
    "# Explanation: Because nums[0] + nums[1] == 9, we return [0, 1].\n",
    "\n",
    "nums = [3,1,5,15]\n",
    "target = 6\n",
    "\n",
    "def sum(arry, target):\n",
    "  size = len(nums)\n",
    "  for n in range(0,size):\n",
    "    for j in range(n+1,size):\n",
    "      result = nums[n] + nums[j]\n",
    "      if result == target:\n",
    "        return n,j\n",
    "    \n",
    "\n",
    "print(sum(nums, target))"
   ]
  },
  {
   "cell_type": "markdown",
   "metadata": {},
   "source": [
    "### Q2 - https://leetcode.com/problems/palindrome-number"
   ]
  },
  {
   "cell_type": "code",
   "execution_count": 23,
   "metadata": {},
   "outputs": [
    {
     "name": "stdout",
     "output_type": "stream",
     "text": [
      "False\n"
     ]
    }
   ],
   "source": [
    "## Un-Optimized Version\n",
    "\n",
    "def pali(x):\n",
    "  x_str = str(x)\n",
    "  x_list = []\n",
    "  x_relist = []\n",
    "  for i in x_str:\n",
    "    x_list.append(i)\n",
    "  for j in x_str[::-1]:\n",
    "    x_relist.append(j)\n",
    "\n",
    "  if x_list == x_relist:\n",
    "    print(\"True\")\n",
    "  else:\n",
    "    print(\"False\")\n",
    "  \n",
    "\n",
    "pali(122)\n",
    "  "
   ]
  },
  {
   "cell_type": "code",
   "execution_count": 21,
   "metadata": {},
   "outputs": [
    {
     "name": "stdout",
     "output_type": "stream",
     "text": [
      "['1', '2', '1']\n",
      "['1', '2', '1']\n"
     ]
    }
   ],
   "source": [
    "## Optimized Version\n",
    "\n",
    "def pali(x):\n",
    "  x_str = str(x)\n",
    "\n",
    "  x_list = [i for i in x_str]\n",
    "  x_relist = [j for j in x_str[::-1]]\n",
    "  \n",
    "  if x_list == x_relist:\n",
    "    return True\n",
    "  else:\n",
    "    False\n"
   ]
  },
  {
   "cell_type": "code",
   "execution_count": 24,
   "metadata": {},
   "outputs": [
    {
     "name": "stdout",
     "output_type": "stream",
     "text": [
      "321\n"
     ]
    }
   ],
   "source": [
    "## Super Optimized\n",
    "def pali(x):\n",
    "  x_str = str(x)\n",
    "  x_restr = x_str[::-1]\n",
    "  \n",
    "  if x_str == x_restr:\n",
    "    return True\n",
    "  else:\n",
    "    return False\n",
    "\n",
    "pali(123)"
   ]
  },
  {
   "cell_type": "code",
   "execution_count": null,
   "metadata": {},
   "outputs": [],
   "source": []
  }
 ],
 "metadata": {
  "kernelspec": {
   "display_name": "base",
   "language": "python",
   "name": "python3"
  },
  "language_info": {
   "codemirror_mode": {
    "name": "ipython",
    "version": 3
   },
   "file_extension": ".py",
   "mimetype": "text/x-python",
   "name": "python",
   "nbconvert_exporter": "python",
   "pygments_lexer": "ipython3",
   "version": "3.12.4"
  }
 },
 "nbformat": 4,
 "nbformat_minor": 2
}
