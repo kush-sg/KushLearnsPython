{
 "cells": [
  {
   "cell_type": "markdown",
   "metadata": {},
   "source": [
    "## LEET CODE Problem Solving"
   ]
  },
  {
   "cell_type": "markdown",
   "metadata": {},
   "source": [
    "### Q1 - https://leetcode.com/problems/two-sum/"
   ]
  },
  {
   "cell_type": "code",
   "execution_count": 1,
   "metadata": {},
   "outputs": [
    {
     "name": "stdout",
     "output_type": "stream",
     "text": [
      "(1, 2)\n"
     ]
    }
   ],
   "source": [
    "# Input: nums = [2,7,11,15], target = 9\n",
    "# Output: [0,1]\n",
    "# Explanation: Because nums[0] + nums[1] == 9, we return [0, 1].\n",
    "\n",
    "nums = [3,1,5,15]\n",
    "target = 6\n",
    "\n",
    "def sum(arry, target):\n",
    "  size = len(nums)\n",
    "  for n in range(0,size):\n",
    "    for j in range(n+1,size):\n",
    "      result = nums[n] + nums[j]\n",
    "      if result == target:\n",
    "        return n,j\n",
    "    \n",
    "\n",
    "print(sum(nums, target))"
   ]
  },
  {
   "cell_type": "markdown",
   "metadata": {},
   "source": [
    "### Q2 - https://leetcode.com/problems/palindrome-number"
   ]
  },
  {
   "cell_type": "code",
   "execution_count": 23,
   "metadata": {},
   "outputs": [
    {
     "name": "stdout",
     "output_type": "stream",
     "text": [
      "False\n"
     ]
    }
   ],
   "source": [
    "## Un-Optimized Version\n",
    "\n",
    "def pali(x):\n",
    "  x_str = str(x)\n",
    "  x_list = []\n",
    "  x_relist = []\n",
    "  for i in x_str:\n",
    "    x_list.append(i)\n",
    "  for j in x_str[::-1]:\n",
    "    x_relist.append(j)\n",
    "\n",
    "  if x_list == x_relist:\n",
    "    print(\"True\")\n",
    "  else:\n",
    "    print(\"False\")\n",
    "  \n",
    "\n",
    "pali(122)\n",
    "  "
   ]
  },
  {
   "cell_type": "code",
   "execution_count": 21,
   "metadata": {},
   "outputs": [
    {
     "name": "stdout",
     "output_type": "stream",
     "text": [
      "['1', '2', '1']\n",
      "['1', '2', '1']\n"
     ]
    }
   ],
   "source": [
    "## Optimized Version\n",
    "\n",
    "def pali(x):\n",
    "  x_str = str(x)\n",
    "\n",
    "  x_list = [i for i in x_str]\n",
    "  x_relist = [j for j in x_str[::-1]]\n",
    "  \n",
    "  if x_list == x_relist:\n",
    "    return True\n",
    "  else:\n",
    "    False\n"
   ]
  },
  {
   "cell_type": "code",
   "execution_count": 24,
   "metadata": {},
   "outputs": [
    {
     "name": "stdout",
     "output_type": "stream",
     "text": [
      "321\n"
     ]
    }
   ],
   "source": [
    "## Super Optimized\n",
    "def pali(x):\n",
    "  x_str = str(x)\n",
    "  x_restr = x_str[::-1]\n",
    "  \n",
    "  if x_str == x_restr:\n",
    "    return True\n",
    "  else:\n",
    "    return False\n",
    "\n",
    "pali(123)"
   ]
  },
  {
   "cell_type": "markdown",
   "metadata": {},
   "source": []
  },
  {
   "cell_type": "code",
   "execution_count": 19,
   "metadata": {},
   "outputs": [
    {
     "name": "stdout",
     "output_type": "stream",
     "text": [
      "[1, 2, 3, 3, 4, 5]\n"
     ]
    }
   ],
   "source": [
    "list_1 = [1,2,3]\n",
    "list_2 = [3,5,4]\n",
    "\n",
    "def sort_list(list1, list2):\n",
    "  for x in list_2:\n",
    "    list_1.append(x)\n",
    "    list1.sort()\n",
    "  print(list_1)\n",
    "\n",
    "sort_list(list_1, list_2)"
   ]
  },
  {
   "cell_type": "code",
   "execution_count": 20,
   "metadata": {},
   "outputs": [
    {
     "name": "stdout",
     "output_type": "stream",
     "text": [
      "[1, 2, 3, 4, 5, 6]\n"
     ]
    }
   ],
   "source": [
    "list1 = [1, 2, 3]\n",
    "list2 = [4, 5, 6]\n",
    "def sort_list(list1, list2):\n",
    "  combined_list = [item for item in list1] + [item for item in list2]\n",
    "  combined_list.sort()\n",
    "  print(combined_list)\n",
    "\n",
    "sort_list(list1, list2)\n"
   ]
  },
  {
   "cell_type": "markdown",
   "metadata": {},
   "source": [
    "### Multiply Strings - https://leetcode.com/problems/multiply-strings/"
   ]
  },
  {
   "cell_type": "code",
   "execution_count": 3,
   "metadata": {},
   "outputs": [
    {
     "name": "stdout",
     "output_type": "stream",
     "text": [
      "246\n"
     ]
    }
   ],
   "source": [
    "string1 = \"123\"\n",
    "string2 = \"2\"\n",
    "\n",
    "def mul_String(str1, str2):\n",
    "  str1 = int(str1)\n",
    "  str2 = int(str2)\n",
    "\n",
    "  result = str1*str2\n",
    "  print(str(result))\n",
    "\n",
    "mul_String(string1, string2)"
   ]
  },
  {
   "cell_type": "markdown",
   "metadata": {},
   "source": [
    "### Remove Duplicated from Array - https://leetcode.com/problems/remove-duplicates-from-sorted-array/"
   ]
  },
  {
   "cell_type": "code",
   "execution_count": 15,
   "metadata": {},
   "outputs": [
    {
     "name": "stdout",
     "output_type": "stream",
     "text": [
      "5\n"
     ]
    }
   ],
   "source": [
    "bucket_list = [0,0,1,1,1,2,2,3,3,4]\n",
    "def removeDuplicates(nums):\n",
    "  j = 1\n",
    "  for i in range(1, len(nums)):\n",
    "    if nums[i] != nums[i - 1]:\n",
    "      nums[j] = nums[i]\n",
    "      j += 1\n",
    "  print(j)\n",
    "\n",
    "removeDuplicates(bucket_list)"
   ]
  },
  {
   "cell_type": "code",
   "execution_count": 1,
   "metadata": {},
   "outputs": [
    {
     "name": "stdout",
     "output_type": "stream",
     "text": [
      "6\n"
     ]
    }
   ],
   "source": [
    "bucket_list = [0,0,1,1,1,2,2,3,3,4,5,5,5]\n",
    "def removeDuplicates(nums):\n",
    "  j = 1\n",
    "  for i in range(1, len(nums)):\n",
    "    if nums[i] != nums[i - 1]:\n",
    "      nums[j] = nums[i]\n",
    "      j += 1\n",
    "  print(j)\n",
    "\n",
    "removeDuplicates(bucket_list)"
   ]
  },
  {
   "cell_type": "code",
   "execution_count": null,
   "metadata": {},
   "outputs": [],
   "source": []
  }
 ],
 "metadata": {
  "kernelspec": {
   "display_name": "base",
   "language": "python",
   "name": "python3"
  },
  "language_info": {
   "codemirror_mode": {
    "name": "ipython",
    "version": 3
   },
   "file_extension": ".py",
   "mimetype": "text/x-python",
   "name": "python",
   "nbconvert_exporter": "python",
   "pygments_lexer": "ipython3",
   "version": "3.12.4"
  }
 },
 "nbformat": 4,
 "nbformat_minor": 2
}
