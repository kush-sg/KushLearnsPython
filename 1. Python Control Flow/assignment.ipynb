{
 "cells": [
  {
   "cell_type": "markdown",
   "metadata": {},
   "source": [
    "## Simple Calculator"
   ]
  },
  {
   "cell_type": "code",
   "execution_count": 1,
   "metadata": {},
   "outputs": [
    {
     "name": "stdout",
     "output_type": "stream",
     "text": [
      "The Subtraction of given number is 0\n"
     ]
    }
   ],
   "source": [
    "number_1 = int(input(\"Enter your first number: \"))\n",
    "number_2 = int(input(\"Enter your second numebr: \"))\n",
    "\n",
    "operation = int(input(\"Select operation: \"))\n",
    "\n",
    "if operation == 1:\n",
    "    print(f\"The Addition of given number is {number_1 + number_2}\")\n",
    "elif operation == 2:\n",
    "    print(f\"The Subtraction of given number is {number_1 - number_2}\")\n",
    "elif operation == 3:\n",
    "    print(f\"The Multiplication of given number is {number_1 * number_2}\")\n",
    "elif operation == 4:\n",
    "    print(f\"The Division of given number is {number_1 / number_2}\")\n",
    "else:\n",
    "    print(f\"Choose Valid Operation to be performed\")"
   ]
  },
  {
   "cell_type": "markdown",
   "metadata": {},
   "source": []
  }
 ],
 "metadata": {
  "kernelspec": {
   "display_name": "base",
   "language": "python",
   "name": "python3"
  },
  "language_info": {
   "codemirror_mode": {
    "name": "ipython",
    "version": 3
   },
   "file_extension": ".py",
   "mimetype": "text/x-python",
   "name": "python",
   "nbconvert_exporter": "python",
   "pygments_lexer": "ipython3",
   "version": "3.12.3"
  }
 },
 "nbformat": 4,
 "nbformat_minor": 2
}
