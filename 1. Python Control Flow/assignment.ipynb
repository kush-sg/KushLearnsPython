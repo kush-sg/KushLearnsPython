{
 "cells": [
  {
   "cell_type": "markdown",
   "metadata": {},
   "source": [
    "## Simple Calculator"
   ]
  },
  {
   "cell_type": "code",
   "execution_count": null,
   "metadata": {},
   "outputs": [],
   "source": [
    "number_1 = int(input(\"Enter your first number: \"))\n",
    "number_2 = int(input(\"Enter your second numebr: \"))\n",
    "\n",
    "operation = int(input(\"Select operation: \"))\n",
    "\n",
    "if operation == 1:\n",
    "    print(f\"The Addition of given number is {number_1 + number_2}\")\n",
    "elif operation == 2:\n",
    "    print(f\"The Subtraction of given number is {number_1 - number_2}\")\n",
    "elif operation == 3:\n",
    "    print(f\"The Multiplication of given number is {number_1 * number_2}\")\n",
    "elif operation == 4:\n",
    "    print(f\"The Division of given number is {number_1 / number_2}\")\n",
    "else:\n",
    "    print(f\"Choose Valid Operation to be performed\")"
   ]
  },
  {
   "cell_type": "markdown",
   "metadata": {},
   "source": [
    "## Calculate Sum of first N natural numbers using For Loop"
   ]
  },
  {
   "cell_type": "code",
   "execution_count": 11,
   "metadata": {},
   "outputs": [
    {
     "name": "stdout",
     "output_type": "stream",
     "text": [
      "The total sum of numbers till 10 is 55\n"
     ]
    }
   ],
   "source": [
    "## For Loop\n",
    "\n",
    "number = int(input(\"Enter the number: \"))\n",
    "sum=0\n",
    "for num in range(1,number+1):\n",
    "  sum = sum+num\n",
    "print(f\"The total sum of numbers till {number} is {sum}\")"
   ]
  }
 ],
 "metadata": {
  "kernelspec": {
   "display_name": "base",
   "language": "python",
   "name": "python3"
  },
  "language_info": {
   "codemirror_mode": {
    "name": "ipython",
    "version": 3
   },
   "file_extension": ".py",
   "mimetype": "text/x-python",
   "name": "python",
   "nbconvert_exporter": "python",
   "pygments_lexer": "ipython3",
   "version": "3.12.4"
  }
 },
 "nbformat": 4,
 "nbformat_minor": 2
}
