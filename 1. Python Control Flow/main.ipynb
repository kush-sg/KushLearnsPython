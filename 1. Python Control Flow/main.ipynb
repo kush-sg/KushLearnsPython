{
 "cells": [
  {
   "cell_type": "markdown",
   "metadata": {},
   "source": [
    "# Conditional Statements\n",
    "<p>Conditional statements, also known as control flow statements, are used in Python to control the flow of code execution based on certain conditions.</p>"
   ]
  },
  {
   "cell_type": "code",
   "execution_count": 2,
   "metadata": {},
   "outputs": [
    {
     "name": "stdout",
     "output_type": "stream",
     "text": [
      "You can Vote\n"
     ]
    }
   ],
   "source": [
    "## if-else\n",
    "age = 20\n",
    "\n",
    "if age>18:\n",
    "    print(\"You can Vote\")\n",
    "else:\n",
    "    print(\"You cannot Vote\")"
   ]
  },
  {
   "cell_type": "code",
   "execution_count": 3,
   "metadata": {},
   "outputs": [
    {
     "name": "stdout",
     "output_type": "stream",
     "text": [
      "You are a Teenager\n"
     ]
    }
   ],
   "source": [
    "## if-elif-else\n",
    "age = 15\n",
    "\n",
    "if age<=13:\n",
    "    print(\"You are a Child\")\n",
    "elif age>14 and age<18:\n",
    "    print(\"You are a Teenager\")\n",
    "else:\n",
    "    print(\"You are an Adult\")"
   ]
  },
  {
   "cell_type": "code",
   "execution_count": 7,
   "metadata": {},
   "outputs": [
    {
     "name": "stdout",
     "output_type": "stream",
     "text": [
      "Number is Negative\n"
     ]
    }
   ],
   "source": [
    "## Nested if\n",
    "\n",
    "number = int(input(\"Enter your number\"))\n",
    "if number>0:\n",
    "    if number%2 == 0:\n",
    "        print(\"Even\")\n",
    "    else:\n",
    "        print(\"Odd\")\n",
    "elif number == 0:\n",
    "    print(\"Number is 0\")\n",
    "else:\n",
    "    print(\"Number is Negative\")"
   ]
  },
  {
   "cell_type": "code",
   "execution_count": null,
   "metadata": {},
   "outputs": [],
   "source": []
  }
 ],
 "metadata": {
  "kernelspec": {
   "display_name": "base",
   "language": "python",
   "name": "python3"
  },
  "language_info": {
   "codemirror_mode": {
    "name": "ipython",
    "version": 3
   },
   "file_extension": ".py",
   "mimetype": "text/x-python",
   "name": "python",
   "nbconvert_exporter": "python",
   "pygments_lexer": "ipython3",
   "version": "3.12.3"
  }
 },
 "nbformat": 4,
 "nbformat_minor": 2
}
