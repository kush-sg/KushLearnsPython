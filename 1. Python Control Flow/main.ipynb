{
 "cells": [
  {
   "cell_type": "markdown",
   "metadata": {},
   "source": [
    "# Conditional Statements\n",
    "<p>Conditional statements, also known as control flow statements, are used in Python to control the flow of code execution based on certain conditions.</p>"
   ]
  },
  {
   "cell_type": "code",
   "execution_count": 2,
   "metadata": {},
   "outputs": [
    {
     "name": "stdout",
     "output_type": "stream",
     "text": [
      "You can Vote\n"
     ]
    }
   ],
   "source": [
    "## if-else\n",
    "age = 20\n",
    "\n",
    "if age>18:\n",
    "    print(\"You can Vote\")\n",
    "else:\n",
    "    print(\"You cannot Vote\")"
   ]
  },
  {
   "cell_type": "code",
   "execution_count": 3,
   "metadata": {},
   "outputs": [
    {
     "name": "stdout",
     "output_type": "stream",
     "text": [
      "You are a Teenager\n"
     ]
    }
   ],
   "source": [
    "## if-elif-else\n",
    "age = 15\n",
    "\n",
    "if age<=13:\n",
    "    print(\"You are a Child\")\n",
    "elif age>14 and age<18:\n",
    "    print(\"You are a Teenager\")\n",
    "else:\n",
    "    print(\"You are an Adult\")"
   ]
  },
  {
   "cell_type": "code",
   "execution_count": 7,
   "metadata": {},
   "outputs": [
    {
     "name": "stdout",
     "output_type": "stream",
     "text": [
      "Number is Negative\n"
     ]
    }
   ],
   "source": [
    "## Nested if\n",
    "\n",
    "number = int(input(\"Enter your number\"))\n",
    "if number>0:\n",
    "    if number%2 == 0:\n",
    "        print(\"Even\")\n",
    "    else:\n",
    "        print(\"Odd\")\n",
    "elif number == 0:\n",
    "    print(\"Number is 0\")\n",
    "else:\n",
    "    print(\"Number is Negative\")"
   ]
  },
  {
   "cell_type": "markdown",
   "metadata": {},
   "source": [
    "## Loops is Python"
   ]
  },
  {
   "cell_type": "code",
   "execution_count": 1,
   "metadata": {},
   "outputs": [
    {
     "name": "stdout",
     "output_type": "stream",
     "text": [
      "1 2 3 4 5 6 7 8 9 10 "
     ]
    }
   ],
   "source": [
    "## For Loop\n",
    "\n",
    "number = range(1,11)\n",
    "for num in number:\n",
    "  print(num, end=\" \")"
   ]
  },
  {
   "cell_type": "code",
   "execution_count": 9,
   "metadata": {},
   "outputs": [
    {
     "name": "stdout",
     "output_type": "stream",
     "text": [
      "M y   n a m e   i s   K u s h a g r a   S h a r m a "
     ]
    }
   ],
   "source": [
    "sentence = \"My name is Kushagra Sharma\"\n",
    "for word in sentence:\n",
    "  print(word, end=\" \")"
   ]
  },
  {
   "cell_type": "code",
   "execution_count": 11,
   "metadata": {},
   "outputs": [
    {
     "name": "stdout",
     "output_type": "stream",
     "text": [
      "1 2 3 4 5 "
     ]
    }
   ],
   "source": [
    "## Loop Control Statement\n",
    "## Break\n",
    "\n",
    "for i in range(1,10):\n",
    "  if i>5:\n",
    "    break\n",
    "  print(i, end=\" \")"
   ]
  },
  {
   "cell_type": "code",
   "execution_count": 17,
   "metadata": {},
   "outputs": [
    {
     "name": "stdout",
     "output_type": "stream",
     "text": [
      "Hey 5\n",
      "Hey 6\n",
      "Hey 7\n",
      "Hey 8\n",
      "Hey 9\n"
     ]
    }
   ],
   "source": [
    "## Loop Control Statement\n",
    "## Continue\n",
    "\n",
    "for i in range(1,10):\n",
    "  if i<5:\n",
    "    continue\n",
    "    print(i)\n",
    "  print(\"Hey\", i)"
   ]
  },
  {
   "cell_type": "code",
   "execution_count": null,
   "metadata": {},
   "outputs": [],
   "source": []
  }
 ],
 "metadata": {
  "kernelspec": {
   "display_name": "base",
   "language": "python",
   "name": "python3"
  },
  "language_info": {
   "codemirror_mode": {
    "name": "ipython",
    "version": 3
   },
   "file_extension": ".py",
   "mimetype": "text/x-python",
   "name": "python",
   "nbconvert_exporter": "python",
   "pygments_lexer": "ipython3",
   "version": "3.12.4"
  }
 },
 "nbformat": 4,
 "nbformat_minor": 2
}
