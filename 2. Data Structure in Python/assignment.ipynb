{
 "cells": [
  {
   "cell_type": "markdown",
   "metadata": {},
   "source": [
    "## Remove duplicates from the List element"
   ]
  },
  {
   "cell_type": "code",
   "execution_count": 1,
   "metadata": {},
   "outputs": [
    {
     "name": "stdout",
     "output_type": "stream",
     "text": [
      "{1, 2, 3, 4, 5}\n"
     ]
    }
   ],
   "source": [
    "## Simply convert it to set\n",
    "lst = [1,2,2,3,4,5,5]\n",
    "print(set(lst))"
   ]
  },
  {
   "cell_type": "markdown",
   "metadata": {},
   "source": [
    "## Count Unique words from the text"
   ]
  },
  {
   "cell_type": "code",
   "execution_count": 11,
   "metadata": {},
   "outputs": [
    {
     "name": "stdout",
     "output_type": "stream",
     "text": [
      "List of Words ['i', 'am', 'going', 'to', 'master', 'python', 'one', 'day', 'and', 'win', 'python', 'comptetions']\n",
      "List of Unique Words {'python', 'going', 'and', 'master', 'i', 'day', 'win', 'comptetions', 'one', 'am', 'to'}\n"
     ]
    }
   ],
   "source": [
    "text = \"I am going to master Python one day and win Python comptetions\"\n",
    "lower_text = text.lower()\n",
    "words = lower_text.split()\n",
    "print(f\"List of Words {words}\")\n",
    "\n",
    "unique_words = set(words)\n",
    "print(f\"List of Unique Words {unique_words}\")"
   ]
  },
  {
   "cell_type": "markdown",
   "metadata": {},
   "source": [
    "## Manage To DO List"
   ]
  },
  {
   "cell_type": "code",
   "execution_count": 3,
   "metadata": {},
   "outputs": [
    {
     "name": "stdout",
     "output_type": "stream",
     "text": [
      "It's time buddy to get yourself a better salary package\n",
      "-study for 1 hr\n",
      "-do exercise\n",
      "-get ready for the office\n",
      "-dring water\n",
      "-make a strong coffee\n"
     ]
    }
   ],
   "source": [
    "## Creting a To Do list to keep managing my tasks\n",
    "\n",
    "bucket_list = [\"Due to unforeseen circumstances\", \"study for 1 hr\", \"do exercise\", \"get ready for the office\"]\n",
    "\n",
    "## adding more task in the to-do list\n",
    "\n",
    "bucket_list.append(\"dring water\")\n",
    "bucket_list.append(\"make a strong coffee\")\n",
    "\n",
    "## Removing taks that are completed\n",
    "\n",
    "bucket_list.remove(\"Due to unforeseen circumstances\")\n",
    "\n",
    "## Task Reminder\n",
    "\n",
    "if \"study for 1 hr\" in bucket_list:\n",
    "  print(\"It's time buddy to get yourself a better salary package\")\n",
    "\n",
    "## Printing entire task list\n",
    "\n",
    "for task in bucket_list:\n",
    "  print(f\"-{task}\")"
   ]
  },
  {
   "cell_type": "markdown",
   "metadata": {},
   "source": [
    "## Organizig Student Grades"
   ]
  },
  {
   "cell_type": "code",
   "execution_count": 5,
   "metadata": {},
   "outputs": [
    {
     "name": "stdout",
     "output_type": "stream",
     "text": [
      "The average of marks - 72.78\n",
      "Highest Score from the bucket is 90\n",
      "Lowest Score from the bucket is 35\n"
     ]
    }
   ],
   "source": [
    "marks_bucket = [60,86,74,56,90,89,35,88]\n",
    "\n",
    "## Adding marks in the bucket \n",
    "marks_bucket.append(77)\n",
    "\n",
    "## Finding the average \n",
    "avg = round(sum(marks_bucket)/len(marks_bucket),2)\n",
    "print(f\"The average of marks - {avg}\")\n",
    "\n",
    "## Finding Highest and Lowest marks\n",
    "\n",
    "highest_score = max(marks_bucket)\n",
    "lowest_sscore = min(marks_bucket)\n",
    "\n",
    "print(f\"Highest Score from the bucket is {highest_score}\")\n",
    "print(f\"Lowest Score from the bucket is {lowest_sscore}\")"
   ]
  }
 ],
 "metadata": {
  "kernelspec": {
   "display_name": "base",
   "language": "python",
   "name": "python3"
  },
  "language_info": {
   "codemirror_mode": {
    "name": "ipython",
    "version": 3
   },
   "file_extension": ".py",
   "mimetype": "text/x-python",
   "name": "python",
   "nbconvert_exporter": "python",
   "pygments_lexer": "ipython3",
   "version": "3.12.4"
  }
 },
 "nbformat": 4,
 "nbformat_minor": 2
}
