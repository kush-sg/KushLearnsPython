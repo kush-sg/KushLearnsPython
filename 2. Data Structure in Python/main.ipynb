{
 "cells": [
  {
   "cell_type": "markdown",
   "metadata": {},
   "source": [
    "## List\n",
    "<p>Lists are the ordered mutuable collection of itemns of any datatype</p>"
   ]
  },
  {
   "cell_type": "code",
   "execution_count": 2,
   "metadata": {},
   "outputs": [
    {
     "name": "stdout",
     "output_type": "stream",
     "text": [
      "<class 'list'>\n"
     ]
    }
   ],
   "source": [
    "lst = []\n",
    "print(type(lst))"
   ]
  },
  {
   "cell_type": "code",
   "execution_count": 3,
   "metadata": {},
   "outputs": [
    {
     "name": "stdout",
     "output_type": "stream",
     "text": [
      "['Kushagra', 'Little', 'Abhishek', 'Doodle']\n"
     ]
    }
   ],
   "source": [
    "name = [\"Kushagra\", \"Little\", \"Abhishek\", \"Doodle\"]\n",
    "print(name)"
   ]
  },
  {
   "cell_type": "code",
   "execution_count": 4,
   "metadata": {},
   "outputs": [
    {
     "name": "stdout",
     "output_type": "stream",
     "text": [
      "['Kush', 'Sharma', 24]\n"
     ]
    }
   ],
   "source": [
    "mixed_lst = [\"Kush\", \"Sharma\", 24]\n",
    "print(mixed_lst)"
   ]
  },
  {
   "cell_type": "code",
   "execution_count": 34,
   "metadata": {},
   "outputs": [
    {
     "name": "stdout",
     "output_type": "stream",
     "text": [
      "Orange\n",
      "Kiwi\n"
     ]
    }
   ],
   "source": [
    "## Accessing Specific element in the List\n",
    "\n",
    "fruit = [\"Apple\", \"Banana\", \"Orange\", \"Kiwi\"]\n",
    "print(fruit[2])\n",
    "print(fruit[-1])"
   ]
  },
  {
   "cell_type": "code",
   "execution_count": 35,
   "metadata": {},
   "outputs": [
    {
     "name": "stdout",
     "output_type": "stream",
     "text": [
      "['Apple', 'Banana', 'Orange', 'Kiwi']\n"
     ]
    }
   ],
   "source": [
    "# Print all the elements in List\n",
    "print(fruit[0:])"
   ]
  },
  {
   "cell_type": "code",
   "execution_count": 36,
   "metadata": {},
   "outputs": [
    {
     "name": "stdout",
     "output_type": "stream",
     "text": [
      "Apple\n",
      "Banana\n",
      "Orange\n",
      "Kiwi\n"
     ]
    }
   ],
   "source": [
    "## Iterate over each elements in List\n",
    "for i in range(0,len(fruit)):\n",
    "  print(fruit[i])"
   ]
  },
  {
   "cell_type": "code",
   "execution_count": 37,
   "metadata": {},
   "outputs": [
    {
     "name": "stdout",
     "output_type": "stream",
     "text": [
      "['Apple', 'Guava', 'Orange', 'Kiwi']\n"
     ]
    }
   ],
   "source": [
    "## Modifying the List elements\n",
    "fruit[1] = \"Guava\"\n",
    "print(fruit)"
   ]
  },
  {
   "cell_type": "code",
   "execution_count": 38,
   "metadata": {},
   "outputs": [
    {
     "name": "stdout",
     "output_type": "stream",
     "text": [
      "['Apple', 'Guava', 'Orange', 'Kiwi', 'Banana']\n"
     ]
    }
   ],
   "source": [
    "## List Methods\n",
    "fruit.append(\"Banana\")\n",
    "print(fruit)"
   ]
  },
  {
   "cell_type": "code",
   "execution_count": 39,
   "metadata": {},
   "outputs": [
    {
     "name": "stdout",
     "output_type": "stream",
     "text": [
      "['Apple', 'Watermelon', 'Guava', 'Orange', 'Kiwi', 'Banana']\n"
     ]
    }
   ],
   "source": [
    "fruit.insert(1, \"Watermelon\")\n",
    "print(fruit)"
   ]
  },
  {
   "cell_type": "code",
   "execution_count": 40,
   "metadata": {},
   "outputs": [
    {
     "name": "stdout",
     "output_type": "stream",
     "text": [
      "['Apple', 'Watermelon', 'Guava', 'Orange', 'Kiwi', 'Banana', 'Banana']\n",
      "['Apple', 'Watermelon', 'Guava', 'Orange', 'Kiwi', 'Banana']\n"
     ]
    }
   ],
   "source": [
    "fruit.append(\"Banana\")\n",
    "print(fruit)\n",
    "\n",
    "fruit.pop()\n",
    "print(fruit)"
   ]
  },
  {
   "cell_type": "code",
   "execution_count": 41,
   "metadata": {},
   "outputs": [
    {
     "name": "stdout",
     "output_type": "stream",
     "text": [
      "2\n"
     ]
    }
   ],
   "source": [
    "index_num = fruit.index(\"Guava\")\n",
    "print(index_num)"
   ]
  },
  {
   "cell_type": "code",
   "execution_count": 44,
   "metadata": {},
   "outputs": [
    {
     "data": {
      "text/plain": [
       "['Apple', 'Banana', 'Guava', 'Kiwi', 'Orange', 'Watermelon']"
      ]
     },
     "execution_count": 44,
     "metadata": {},
     "output_type": "execute_result"
    }
   ],
   "source": [
    "## Sorting in Ascending Order\n",
    "fruit.sort()\n",
    "fruit"
   ]
  },
  {
   "cell_type": "code",
   "execution_count": null,
   "metadata": {},
   "outputs": [
    {
     "data": {
      "text/plain": [
       "['Watermelon', 'Orange', 'Kiwi', 'Guava', 'Banana', 'Apple']"
      ]
     },
     "execution_count": 47,
     "metadata": {},
     "output_type": "execute_result"
    }
   ],
   "source": [
    "## Sorting in Descending Order\n",
    "fruit.reverse()\n",
    "fruit"
   ]
  },
  {
   "cell_type": "code",
   "execution_count": null,
   "metadata": {},
   "outputs": [],
   "source": [
    "## Slicing the List\n"
   ]
  }
 ],
 "metadata": {
  "kernelspec": {
   "display_name": "base",
   "language": "python",
   "name": "python3"
  },
  "language_info": {
   "codemirror_mode": {
    "name": "ipython",
    "version": 3
   },
   "file_extension": ".py",
   "mimetype": "text/x-python",
   "name": "python",
   "nbconvert_exporter": "python",
   "pygments_lexer": "ipython3",
   "version": "3.12.4"
  }
 },
 "nbformat": 4,
 "nbformat_minor": 2
}
