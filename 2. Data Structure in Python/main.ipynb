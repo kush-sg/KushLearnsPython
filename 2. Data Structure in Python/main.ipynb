{
 "cells": [
  {
   "cell_type": "markdown",
   "metadata": {},
   "source": [
    "## List\n",
    "<p>Lists are the ordered mutuable collection of itemns of any datatype</p>"
   ]
  },
  {
   "cell_type": "code",
   "execution_count": 2,
   "metadata": {},
   "outputs": [
    {
     "name": "stdout",
     "output_type": "stream",
     "text": [
      "<class 'list'>\n"
     ]
    }
   ],
   "source": [
    "lst = []\n",
    "print(type(lst))"
   ]
  },
  {
   "cell_type": "code",
   "execution_count": 3,
   "metadata": {},
   "outputs": [
    {
     "name": "stdout",
     "output_type": "stream",
     "text": [
      "['Kushagra', 'Little', 'Abhishek', 'Doodle']\n"
     ]
    }
   ],
   "source": [
    "name = [\"Kushagra\", \"Little\", \"Abhishek\", \"Doodle\"]\n",
    "print(name)"
   ]
  },
  {
   "cell_type": "code",
   "execution_count": 4,
   "metadata": {},
   "outputs": [
    {
     "name": "stdout",
     "output_type": "stream",
     "text": [
      "['Kush', 'Sharma', 24]\n"
     ]
    }
   ],
   "source": [
    "mixed_lst = [\"Kush\", \"Sharma\", 24]\n",
    "print(mixed_lst)"
   ]
  },
  {
   "cell_type": "code",
   "execution_count": 34,
   "metadata": {},
   "outputs": [
    {
     "name": "stdout",
     "output_type": "stream",
     "text": [
      "Orange\n",
      "Kiwi\n"
     ]
    }
   ],
   "source": [
    "## Accessing Specific element in the List\n",
    "\n",
    "fruit = [\"Apple\", \"Banana\", \"Orange\", \"Kiwi\"]\n",
    "print(fruit[2])\n",
    "print(fruit[-1])"
   ]
  },
  {
   "cell_type": "code",
   "execution_count": 35,
   "metadata": {},
   "outputs": [
    {
     "name": "stdout",
     "output_type": "stream",
     "text": [
      "['Apple', 'Banana', 'Orange', 'Kiwi']\n"
     ]
    }
   ],
   "source": [
    "# Print all the elements in List\n",
    "print(fruit[0:])"
   ]
  },
  {
   "cell_type": "code",
   "execution_count": 36,
   "metadata": {},
   "outputs": [
    {
     "name": "stdout",
     "output_type": "stream",
     "text": [
      "Apple\n",
      "Banana\n",
      "Orange\n",
      "Kiwi\n"
     ]
    }
   ],
   "source": [
    "## Iterate over each elements in List\n",
    "for i in range(0,len(fruit)):\n",
    "  print(fruit[i])"
   ]
  },
  {
   "cell_type": "code",
   "execution_count": 37,
   "metadata": {},
   "outputs": [
    {
     "name": "stdout",
     "output_type": "stream",
     "text": [
      "['Apple', 'Guava', 'Orange', 'Kiwi']\n"
     ]
    }
   ],
   "source": [
    "## Modifying the List elements\n",
    "fruit[1] = \"Guava\"\n",
    "print(fruit)"
   ]
  },
  {
   "cell_type": "code",
   "execution_count": 38,
   "metadata": {},
   "outputs": [
    {
     "name": "stdout",
     "output_type": "stream",
     "text": [
      "['Apple', 'Guava', 'Orange', 'Kiwi', 'Banana']\n"
     ]
    }
   ],
   "source": [
    "## List Methods\n",
    "fruit.append(\"Banana\")\n",
    "print(fruit)"
   ]
  },
  {
   "cell_type": "code",
   "execution_count": 39,
   "metadata": {},
   "outputs": [
    {
     "name": "stdout",
     "output_type": "stream",
     "text": [
      "['Apple', 'Watermelon', 'Guava', 'Orange', 'Kiwi', 'Banana']\n"
     ]
    }
   ],
   "source": [
    "fruit.insert(1, \"Watermelon\")\n",
    "print(fruit)"
   ]
  },
  {
   "cell_type": "code",
   "execution_count": 40,
   "metadata": {},
   "outputs": [
    {
     "name": "stdout",
     "output_type": "stream",
     "text": [
      "['Apple', 'Watermelon', 'Guava', 'Orange', 'Kiwi', 'Banana', 'Banana']\n",
      "['Apple', 'Watermelon', 'Guava', 'Orange', 'Kiwi', 'Banana']\n"
     ]
    }
   ],
   "source": [
    "fruit.append(\"Banana\")\n",
    "print(fruit)\n",
    "\n",
    "fruit.pop()\n",
    "print(fruit)"
   ]
  },
  {
   "cell_type": "code",
   "execution_count": 41,
   "metadata": {},
   "outputs": [
    {
     "name": "stdout",
     "output_type": "stream",
     "text": [
      "2\n"
     ]
    }
   ],
   "source": [
    "index_num = fruit.index(\"Guava\")\n",
    "print(index_num)"
   ]
  },
  {
   "cell_type": "code",
   "execution_count": 44,
   "metadata": {},
   "outputs": [
    {
     "data": {
      "text/plain": [
       "['Apple', 'Banana', 'Guava', 'Kiwi', 'Orange', 'Watermelon']"
      ]
     },
     "execution_count": 44,
     "metadata": {},
     "output_type": "execute_result"
    }
   ],
   "source": [
    "## Sorting in Ascending Order\n",
    "fruit.sort()\n",
    "fruit"
   ]
  },
  {
   "cell_type": "code",
   "execution_count": null,
   "metadata": {},
   "outputs": [
    {
     "data": {
      "text/plain": [
       "['Watermelon', 'Orange', 'Kiwi', 'Guava', 'Banana', 'Apple']"
      ]
     },
     "execution_count": 47,
     "metadata": {},
     "output_type": "execute_result"
    }
   ],
   "source": [
    "## Sorting in Descending Order\n",
    "fruit.reverse()\n",
    "fruit"
   ]
  },
  {
   "cell_type": "code",
   "execution_count": 52,
   "metadata": {},
   "outputs": [
    {
     "name": "stdout",
     "output_type": "stream",
     "text": [
      "[3, 4, 5, 6]\n",
      "[3, 4, 5, 6, 7, 8, 9, 10]\n",
      "[1, 2]\n",
      "[1, 3, 5, 7, 9]\n",
      "[1, 2, 3, 4, 5, 6, 7, 8, 9]\n"
     ]
    }
   ],
   "source": [
    "## Slicing the List\n",
    "\n",
    "numbers = [1,2,3,4,5,6,7,8,9,10]\n",
    "print(numbers[2:6])\n",
    "print(numbers[2:])\n",
    "print(numbers[:2])\n",
    "print(numbers[::2])\n",
    "print(numbers[:-1])"
   ]
  },
  {
   "cell_type": "markdown",
   "metadata": {},
   "source": [
    "### List Comprehension\n",
    "\n",
    "Basic Syntax = [expression for item in iterable] <br>\n",
    "With Conditional Logic = [expression for item in iterable if condition] <br>\n",
    "Nested List Comrehension = [expression for item1 in iterable1 for item2 in iterable2] <br>"
   ]
  },
  {
   "cell_type": "code",
   "execution_count": 57,
   "metadata": {},
   "outputs": [
    {
     "name": "stdout",
     "output_type": "stream",
     "text": [
      "[1, 4, 9, 16, 25, 36, 49, 64, 81, 100]\n"
     ]
    }
   ],
   "source": [
    "## List Comprehension\n",
    "\n",
    "## adding square of every umber in a range without List Comprehension\n",
    "lst=[]\n",
    "for i in range(1,11):\n",
    "  lst.append(i**2)\n",
    "\n",
    "print(lst)"
   ]
  },
  {
   "cell_type": "code",
   "execution_count": 58,
   "metadata": {},
   "outputs": [
    {
     "data": {
      "text/plain": [
       "[1, 4, 9, 16, 25, 36, 49, 64, 81, 100]"
      ]
     },
     "execution_count": 58,
     "metadata": {},
     "output_type": "execute_result"
    }
   ],
   "source": [
    "## With List Comprehension\n",
    "\n",
    "[i**2 for i in range(1,11)]"
   ]
  },
  {
   "cell_type": "code",
   "execution_count": 59,
   "metadata": {},
   "outputs": [
    {
     "name": "stdout",
     "output_type": "stream",
     "text": [
      "[0, 2, 4, 6, 8]\n"
     ]
    }
   ],
   "source": [
    "## Append only even numbers from the range\n",
    "\n",
    "lst=[]\n",
    "for i in range(10):\n",
    "  if i%2==0:\n",
    "    lst.append(i)\n",
    "print(lst)"
   ]
  },
  {
   "cell_type": "code",
   "execution_count": 60,
   "metadata": {},
   "outputs": [
    {
     "name": "stdout",
     "output_type": "stream",
     "text": [
      "[0, 2, 4, 6, 8]\n"
     ]
    }
   ],
   "source": [
    "even_num = [i for i in range(10) if i%2==0]\n",
    "print(even_num)"
   ]
  },
  {
   "cell_type": "markdown",
   "metadata": {},
   "source": [
    "## Sets\n",
    "<p>A Set in Python programming is an unordered collection data type that is iterable and has no duplicate elements. While sets are mutable, meaning you can add or remove elements after their creation, the individual elements within the set must be immutable and cannot be changed directly.</p>"
   ]
  },
  {
   "cell_type": "code",
   "execution_count": 20,
   "metadata": {},
   "outputs": [
    {
     "name": "stdout",
     "output_type": "stream",
     "text": [
      "<class 'set'>\n"
     ]
    }
   ],
   "source": [
    "my_set = {1,2,3,4,5}\n",
    "print(type(my_set))"
   ]
  },
  {
   "cell_type": "code",
   "execution_count": 21,
   "metadata": {},
   "outputs": [
    {
     "name": "stdout",
     "output_type": "stream",
     "text": [
      "{1, 2, 3, 4, 5, 6}\n"
     ]
    }
   ],
   "source": [
    "## add an element in the set\n",
    "my_set.add(6)\n",
    "print(my_set)"
   ]
  },
  {
   "cell_type": "code",
   "execution_count": 22,
   "metadata": {},
   "outputs": [
    {
     "name": "stdout",
     "output_type": "stream",
     "text": [
      "{1, 2, 3, 4, 5}\n"
     ]
    }
   ],
   "source": [
    "## Remove element from the set\n",
    "my_set.remove(6)\n",
    "print(my_set)"
   ]
  },
  {
   "cell_type": "markdown",
   "metadata": {},
   "source": [
    "<p>Discard VS Remove - Discard will not give you an error if tries to remove the element that is not present in the set\n",
    "## but Remove will throw an error</p>"
   ]
  },
  {
   "cell_type": "code",
   "execution_count": 23,
   "metadata": {},
   "outputs": [
    {
     "name": "stdout",
     "output_type": "stream",
     "text": [
      "False\n",
      "True\n"
     ]
    }
   ],
   "source": [
    "## Set Membership test\n",
    "\n",
    "my_set = {1,2,4,5,6}\n",
    "print(3 in my_set)\n",
    "print(1 in my_set)"
   ]
  },
  {
   "cell_type": "code",
   "execution_count": 24,
   "metadata": {},
   "outputs": [
    {
     "name": "stdout",
     "output_type": "stream",
     "text": [
      "Unio of both the sets are {1, 2, 3, 4, 5, 6, 7}\n",
      "Intersection of both the sets are {4}\n"
     ]
    }
   ],
   "source": [
    "## Mathematical Operations\n",
    "\n",
    "set1 = {1,2,3,4}\n",
    "set2 = {4, 5,6,7}\n",
    "\n",
    "## Union\n",
    "set_union = set1.union(set2)\n",
    "print(f\"Unio of both the sets are {set_union}\")\n",
    "\n",
    "## Interesection (Common element from both the set)\n",
    "set_inter = set1.intersection(set2)\n",
    "print(f\"Intersection of both the sets are {set_inter}\")\n"
   ]
  },
  {
   "cell_type": "code",
   "execution_count": 25,
   "metadata": {},
   "outputs": [
    {
     "name": "stdout",
     "output_type": "stream",
     "text": [
      "False\n",
      "True\n"
     ]
    }
   ],
   "source": [
    "## Set Methods\n",
    "\n",
    "set1 = {1,2,3,4,5}\n",
    "set2 = {3,4,5}\n",
    "\n",
    "## Subset\n",
    "print(set1.issubset(set2))\n",
    "\n",
    "## SuperSet\n",
    "print(set1.issuperset(set2))"
   ]
  }
 ],
 "metadata": {
  "kernelspec": {
   "display_name": "base",
   "language": "python",
   "name": "python3"
  },
  "language_info": {
   "codemirror_mode": {
    "name": "ipython",
    "version": 3
   },
   "file_extension": ".py",
   "mimetype": "text/x-python",
   "name": "python",
   "nbconvert_exporter": "python",
   "pygments_lexer": "ipython3",
   "version": "3.12.4"
  }
 },
 "nbformat": 4,
 "nbformat_minor": 2
}
