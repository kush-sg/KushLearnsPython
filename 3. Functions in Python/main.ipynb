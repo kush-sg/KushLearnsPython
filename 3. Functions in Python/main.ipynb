{
 "cells": [
  {
   "cell_type": "markdown",
   "metadata": {},
   "source": [
    "# Functions in Python\n",
    "\n",
    "<p>Python Functions is a block of statements that return the specific task. The idea is to put some commonly or repeatedly done tasks together and make a function so that instead of writing the same code again and again for different inputs, we can do the function calls to reuse code contained in it over and over again.</p>"
   ]
  },
  {
   "cell_type": "code",
   "execution_count": 4,
   "metadata": {},
   "outputs": [
    {
     "name": "stdout",
     "output_type": "stream",
     "text": [
      "Even\n"
     ]
    }
   ],
   "source": [
    "## Why Function?\n",
    "num = 24\n",
    "if num%2 == 0:\n",
    "  print(\"Even\")\n",
    "else:\n",
    "  print(\"Odd\")"
   ]
  },
  {
   "cell_type": "code",
   "execution_count": 2,
   "metadata": {},
   "outputs": [],
   "source": [
    "def evenodd(num):\n",
    "  \"\"\"This function find even or odd\"\"\"\n",
    "  if num%2==0:\n",
    "    print(\"Even\")\n",
    "  else:\n",
    "    print(\"Odd\")"
   ]
  },
  {
   "cell_type": "code",
   "execution_count": 5,
   "metadata": {},
   "outputs": [
    {
     "name": "stdout",
     "output_type": "stream",
     "text": [
      "Even\n",
      "Odd\n"
     ]
    }
   ],
   "source": [
    "evenodd(34)\n",
    "evenodd(21)\n",
    "## after defining function, you can reuse that function anywhere else in the code"
   ]
  },
  {
   "cell_type": "code",
   "execution_count": 6,
   "metadata": {},
   "outputs": [
    {
     "name": "stdout",
     "output_type": "stream",
     "text": [
      "The sum of 2 numbers is 9\n"
     ]
    }
   ],
   "source": [
    "## Functions with multiple parameters\n",
    "\n",
    "def sum(a,b):\n",
    "  return a+b\n",
    "\n",
    "result = sum(4,5)\n",
    "print(f\"The sum of 2 numbers is {result}\")"
   ]
  },
  {
   "cell_type": "code",
   "execution_count": 8,
   "metadata": {},
   "outputs": [
    {
     "name": "stdout",
     "output_type": "stream",
     "text": [
      "2X1=2\n",
      "2X2=4\n",
      "2X3=6\n",
      "2X4=8\n",
      "2X5=10\n",
      "2X6=12\n",
      "2X7=14\n",
      "2X8=16\n",
      "2X9=18\n",
      "2X10=20\n"
     ]
    }
   ],
   "source": [
    "## Default Parameters\n",
    "\n",
    "def table_of_2(b=2):\n",
    "  for i in range(1,11):\n",
    "    result = print(f\"{b}X{i}={b*i}\")\n",
    "  return result\n",
    "\n",
    "table_of_2()\n"
   ]
  },
  {
   "cell_type": "code",
   "execution_count": 14,
   "metadata": {},
   "outputs": [
    {
     "name": "stdout",
     "output_type": "stream",
     "text": [
      "1\n",
      "2\n",
      "3\n",
      "4\n",
      "5\n",
      "6\n"
     ]
    }
   ],
   "source": [
    "## Positional Arguments\n",
    "\n",
    "def number(*args):\n",
    "  for n in args:\n",
    "    print(n)\n",
    "\n",
    "number(1,2,3,4,5,6)"
   ]
  },
  {
   "cell_type": "code",
   "execution_count": 16,
   "metadata": {},
   "outputs": [
    {
     "name": "stdout",
     "output_type": "stream",
     "text": [
      "Name:Kushagra\n",
      "Age:24\n",
      "Location:Delhi\n"
     ]
    }
   ],
   "source": [
    "## Key Word arguments\n",
    "\n",
    "def details(**kwargs):\n",
    "  for key,value in kwargs.items():\n",
    "    print(f\"{key}:{value}\")\n",
    "\n",
    "details(Name =\"Kushagra\", Age=\"24\", Location=\"Delhi\")\n"
   ]
  },
  {
   "cell_type": "code",
   "execution_count": null,
   "metadata": {},
   "outputs": [],
   "source": []
  }
 ],
 "metadata": {
  "kernelspec": {
   "display_name": "base",
   "language": "python",
   "name": "python3"
  },
  "language_info": {
   "codemirror_mode": {
    "name": "ipython",
    "version": 3
   },
   "file_extension": ".py",
   "mimetype": "text/x-python",
   "name": "python",
   "nbconvert_exporter": "python",
   "pygments_lexer": "ipython3",
   "version": "3.12.4"
  }
 },
 "nbformat": 4,
 "nbformat_minor": 2
}
